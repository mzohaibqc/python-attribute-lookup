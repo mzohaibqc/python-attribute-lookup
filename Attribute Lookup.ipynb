{
 "cells": [
  {
   "cell_type": "code",
   "execution_count": 1,
   "metadata": {
    "collapsed": false
   },
   "outputs": [
    {
     "ename": "AttributeError",
     "evalue": "'A' object has no attribute 'a'",
     "output_type": "error",
     "traceback": [
      "\u001b[0;31m---------------------------------------------------------------------------\u001b[0m",
      "\u001b[0;31mAttributeError\u001b[0m                            Traceback (most recent call last)",
      "\u001b[0;32m<ipython-input-1-e5f0ec52b387>\u001b[0m in \u001b[0;36m<module>\u001b[0;34m()\u001b[0m\n\u001b[1;32m      3\u001b[0m \u001b[0;34m\u001b[0m\u001b[0m\n\u001b[1;32m      4\u001b[0m \u001b[0mobj\u001b[0m \u001b[0;34m=\u001b[0m \u001b[0mA\u001b[0m\u001b[0;34m(\u001b[0m\u001b[0;34m)\u001b[0m\u001b[0;34m\u001b[0m\u001b[0m\n\u001b[0;32m----> 5\u001b[0;31m \u001b[0mobj\u001b[0m\u001b[0;34m.\u001b[0m\u001b[0ma\u001b[0m\u001b[0;34m\u001b[0m\u001b[0m\n\u001b[0m",
      "\u001b[0;31mAttributeError\u001b[0m: 'A' object has no attribute 'a'"
     ]
    }
   ],
   "source": [
    "class A(object):\n",
    "    pass\n",
    "\n",
    "obj = A()\n",
    "obj.a"
   ]
  },
  {
   "cell_type": "code",
   "execution_count": 2,
   "metadata": {
    "collapsed": false
   },
   "outputs": [
    {
     "name": "stdout",
     "output_type": "stream",
     "text": [
      "Getting an non-existing property on object: a\n"
     ]
    },
    {
     "data": {
      "text/plain": [
       "'Some default value'"
      ]
     },
     "execution_count": 2,
     "metadata": {},
     "output_type": "execute_result"
    }
   ],
   "source": [
    "class A(object):\n",
    "    def __getattr__(self, name):\n",
    "        print('Getting an non-existing property on object: {}'.format(name))\n",
    "        return 'Some default value'\n",
    "\n",
    "obj = A()\n",
    "obj.a"
   ]
  },
  {
   "cell_type": "code",
   "execution_count": 3,
   "metadata": {
    "collapsed": false
   },
   "outputs": [
    {
     "data": {
      "text/plain": [
       "123"
      ]
     },
     "execution_count": 3,
     "metadata": {},
     "output_type": "execute_result"
    }
   ],
   "source": [
    "class A(object):\n",
    "    a = 123\n",
    "\n",
    "obj = A()\n",
    "obj.a"
   ]
  },
  {
   "cell_type": "code",
   "execution_count": 4,
   "metadata": {
    "collapsed": false
   },
   "outputs": [
    {
     "name": "stdout",
     "output_type": "stream",
     "text": [
      "Getting value from non-data descriptor\n"
     ]
    },
    {
     "data": {
      "text/plain": [
       "'default value defined by __get__'"
      ]
     },
     "execution_count": 4,
     "metadata": {},
     "output_type": "execute_result"
    }
   ],
   "source": [
    "# First we need to define a descriptor class\n",
    "class Desc(object):\n",
    "    def __get__(self, instance, klass):\n",
    "        print('Getting value from non-data descriptor')\n",
    "        return 'default value defined by __get__'\n",
    "\n",
    "class A(object):\n",
    "    a = Desc()\n",
    "\n",
    "obj = A()\n",
    "obj.a"
   ]
  },
  {
   "cell_type": "code",
   "execution_count": 6,
   "metadata": {
    "collapsed": false
   },
   "outputs": [
    {
     "data": {
      "text/plain": [
       "123"
      ]
     },
     "execution_count": 6,
     "metadata": {},
     "output_type": "execute_result"
    }
   ],
   "source": [
    "class A(object):\n",
    "    def __init__(self):\n",
    "        self.a = 123\n",
    "\n",
    "obj = A()\n",
    "obj.a"
   ]
  },
  {
   "cell_type": "code",
   "execution_count": 20,
   "metadata": {
    "collapsed": false
   },
   "outputs": [
    {
     "name": "stdout",
     "output_type": "stream",
     "text": [
      "True\n",
      "True\n",
      "Getting value from non-data descriptor\n"
     ]
    },
    {
     "data": {
      "text/plain": [
       "111"
      ]
     },
     "execution_count": 20,
     "metadata": {},
     "output_type": "execute_result"
    }
   ],
   "source": [
    "class Desc(object):\n",
    "    \n",
    "    def __init__(self, val=None):\n",
    "        self.val = val\n",
    "        \n",
    "    def __get__(self, instance, klass):\n",
    "        print('Getting value from non-data descriptor')\n",
    "        return self.val\n",
    "    \n",
    "    def __set__(self, instance, val):\n",
    "        print('data descriptor __set__')\n",
    "        self.val = val\n",
    "\n",
    "class A(object):\n",
    "    a = Desc(111)\n",
    "\n",
    "obj = A()\n",
    "print('a' in A.__dict__)\n",
    "print(hasattr(A.__dict__['a'], '__get__') and hasattr(A.__dict__['a'], '__set__'))\n",
    "# obj.__dict__['a'] = 123\n",
    "obj.a"
   ]
  },
  {
   "cell_type": "code",
   "execution_count": 22,
   "metadata": {
    "collapsed": false
   },
   "outputs": [
    {
     "ename": "AttributeError",
     "evalue": "class B has no attribute 'b'",
     "output_type": "error",
     "traceback": [
      "\u001b[0;31m---------------------------------------------------------------------------\u001b[0m",
      "\u001b[0;31mAttributeError\u001b[0m                            Traceback (most recent call last)",
      "\u001b[0;32m<ipython-input-22-4558a9cab39f>\u001b[0m in \u001b[0;36m<module>\u001b[0;34m()\u001b[0m\n\u001b[1;32m      2\u001b[0m     \u001b[0;32mpass\u001b[0m\u001b[0;34m\u001b[0m\u001b[0m\n\u001b[1;32m      3\u001b[0m \u001b[0;34m\u001b[0m\u001b[0m\n\u001b[0;32m----> 4\u001b[0;31m \u001b[0mB\u001b[0m\u001b[0;34m.\u001b[0m\u001b[0mb\u001b[0m\u001b[0;34m\u001b[0m\u001b[0m\n\u001b[0m",
      "\u001b[0;31mAttributeError\u001b[0m: class B has no attribute 'b'"
     ]
    }
   ],
   "source": [
    "class B():\n",
    "    pass\n",
    "\n",
    "B.b"
   ]
  },
  {
   "cell_type": "code",
   "execution_count": 24,
   "metadata": {
    "collapsed": false
   },
   "outputs": [
    {
     "name": "stdout",
     "output_type": "stream",
     "text": [
      "Getting an non-existing property on Class: b\n"
     ]
    },
    {
     "data": {
      "text/plain": [
       "'Some default value'"
      ]
     },
     "execution_count": 24,
     "metadata": {},
     "output_type": "execute_result"
    }
   ],
   "source": [
    "class Meta(type):\n",
    "    def __getattr__(cls, name):\n",
    "        print('Getting an non-existing property on Class: {}'.format(name))\n",
    "        return 'Some default value'\n",
    "\n",
    "class B():\n",
    "    __metaclass__ = Meta\n",
    "\n",
    "B.b"
   ]
  },
  {
   "cell_type": "code",
   "execution_count": 26,
   "metadata": {
    "collapsed": false
   },
   "outputs": [
    {
     "data": {
      "text/plain": [
       "123"
      ]
     },
     "execution_count": 26,
     "metadata": {},
     "output_type": "execute_result"
    }
   ],
   "source": [
    "class Meta(type):\n",
    "    b = 123\n",
    "\n",
    "class B(object):\n",
    "    __metaclass__ = Meta\n",
    "\n",
    "B.b"
   ]
  },
  {
   "cell_type": "code",
   "execution_count": 48,
   "metadata": {
    "collapsed": false
   },
   "outputs": [
    {
     "name": "stdout",
     "output_type": "stream",
     "text": [
      "Getting value from non-data descriptor\n"
     ]
    },
    {
     "data": {
      "text/plain": [
       "'default value defined by __get__'"
      ]
     },
     "execution_count": 48,
     "metadata": {},
     "output_type": "execute_result"
    }
   ],
   "source": [
    "class ClassDesc(object):\n",
    "    def __get__(self, cls, meta):\n",
    "        print('Getting value from non-data descriptor')\n",
    "        return 'default value defined by __get__'\n",
    "\n",
    "class Meta(type):\n",
    "    b = ClassDesc()\n",
    "    \n",
    "class B(object):\n",
    "    __metaclass__ = Meta\n",
    "    \n",
    "B.b"
   ]
  },
  {
   "cell_type": "code",
   "execution_count": 28,
   "metadata": {
    "collapsed": false
   },
   "outputs": [
    {
     "data": {
      "text/plain": [
       "123"
      ]
     },
     "execution_count": 28,
     "metadata": {},
     "output_type": "execute_result"
    }
   ],
   "source": [
    "class B(object):\n",
    "    b = 123\n",
    "    \n",
    "B.b"
   ]
  },
  {
   "cell_type": "code",
   "execution_count": 39,
   "metadata": {
    "collapsed": false
   },
   "outputs": [
    {
     "data": {
      "text/plain": [
       "1234"
      ]
     },
     "execution_count": 39,
     "metadata": {},
     "output_type": "execute_result"
    }
   ],
   "source": [
    "class Meta(type):\n",
    "    def __new__(cls, name, bases, cdict):\n",
    "        cdict['b'] = 1234\n",
    "        return type.__new__(cls, name, bases, cdict)\n",
    "\n",
    "class B(object):\n",
    "    __metaclass__ = Meta\n",
    "    \n",
    "B.b"
   ]
  },
  {
   "cell_type": "code",
   "execution_count": 50,
   "metadata": {
    "collapsed": false
   },
   "outputs": [
    {
     "name": "stdout",
     "output_type": "stream",
     "text": [
      "True\n",
      "True\n",
      "Getting value from non-data descriptor\n"
     ]
    },
    {
     "data": {
      "text/plain": [
       "1111"
      ]
     },
     "execution_count": 50,
     "metadata": {},
     "output_type": "execute_result"
    }
   ],
   "source": [
    "class ClassDesc(object):\n",
    "    \n",
    "    def __init__(self, val=None):\n",
    "        self.val = val\n",
    "        \n",
    "    def __get__(self, cls, meta):\n",
    "        print('Getting value from non-data descriptor')\n",
    "        return self.val\n",
    "    \n",
    "    def __set__(self, cls, val):\n",
    "        print('data descriptor __set__')\n",
    "        self.val = val\n",
    "\n",
    "class Meta(type):\n",
    "    \n",
    "    b = ClassDesc(1111)\n",
    "    \n",
    "    def __new__(cls, name, bases, cdict):\n",
    "        cdict['b'] = 1234\n",
    "        return type.__new__(cls, name, bases, cdict)\n",
    "    \n",
    "class B(object):\n",
    "    __metaclass__ = Meta\n",
    "\n",
    "print('b' in Meta.__dict__)\n",
    "print(hasattr(Meta.__dict__['b'], '__get__') and hasattr(Meta.__dict__['b'], '__set__'))\n",
    "B.b"
   ]
  },
  {
   "cell_type": "code",
   "execution_count": 51,
   "metadata": {
    "collapsed": false
   },
   "outputs": [
    {
     "name": "stdout",
     "output_type": "stream",
     "text": [
      "data descriptor __set__\n"
     ]
    }
   ],
   "source": [
    "B.b = 1"
   ]
  },
  {
   "cell_type": "code",
   "execution_count": null,
   "metadata": {
    "collapsed": false
   },
   "outputs": [],
   "source": []
  },
  {
   "cell_type": "code",
   "execution_count": null,
   "metadata": {
    "collapsed": true
   },
   "outputs": [],
   "source": []
  }
 ],
 "metadata": {
  "anaconda-cloud": {},
  "kernelspec": {
   "display_name": "Python [conda root]",
   "language": "python",
   "name": "conda-root-py"
  },
  "language_info": {
   "codemirror_mode": {
    "name": "ipython",
    "version": 2
   },
   "file_extension": ".py",
   "mimetype": "text/x-python",
   "name": "python",
   "nbconvert_exporter": "python",
   "pygments_lexer": "ipython2",
   "version": "2.7.12"
  }
 },
 "nbformat": 4,
 "nbformat_minor": 1
}
